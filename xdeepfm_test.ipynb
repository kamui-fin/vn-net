{
 "cells": [
  {
   "cell_type": "code",
   "execution_count": null,
   "metadata": {},
   "outputs": [],
   "source": [
    "from tqdm import tqdm \n",
    "import pandas as pd\n",
    "import numpy as np\n",
    "import seaborn as sns\n",
    "import matplotlib.pyplot as plt\n",
    "import xdeepfm\n",
    "from sklearn.model_selection import train_test_split\n",
    "import torch\n",
    "from torch.utils.data import DataLoader, TensorDataset\n",
    "from xdeepfm import Field"
   ]
  },
  {
   "cell_type": "code",
   "execution_count": null,
   "metadata": {},
   "outputs": [],
   "source": [
    "%load_ext autoreload\n",
    "%autoreload 2"
   ]
  },
  {
   "cell_type": "code",
   "execution_count": 78,
   "metadata": {},
   "outputs": [],
   "source": [
    "df = pd.read_csv(\"./data/ml-100k/u.data\", header=None, delim_whitespace=True, encoding='utf-8')\n",
    "df.columns = ['user_id', 'item_id', 'rating', 'timestamp']\n",
    "\n",
    "X = df[['user_id', 'item_id']].to_numpy()\n",
    "y = df['rating'].to_numpy()\n",
    "y = (y >= 4).astype(int)\n",
    "\n",
    "batch_size = 2048\n",
    "\n",
    "num_users = np.max(df['user_id']).item() + 1\n",
    "num_items = np.max(df['item_id']).item() + 1\n",
    "fields = [num_users, num_items]\n",
    "\n",
    "train_X, test_X, train_y, test_y = train_test_split(X, y, test_size=0.5)\n",
    "train_dl = DataLoader(\n",
    "    TensorDataset(\n",
    "        torch.tensor(train_X),\n",
    "        torch.tensor(train_y).float(),\n",
    "    ),\n",
    "    batch_size=batch_size,\n",
    "    drop_last=True\n",
    ")\n",
    "test_dl = DataLoader(\n",
    "    TensorDataset(\n",
    "        torch.tensor(test_X),\n",
    "        torch.tensor(test_y).float(),\n",
    "    ),\n",
    "    batch_size=batch_size,\n",
    "    drop_last=True\n",
    ")\n",
    "\n",
    "def evaluate_net(net, loss_fn):\n",
    "    net.cuda()\n",
    "    net.eval()\n",
    "    total_loss = 0.0\n",
    "    predictions = []\n",
    "    with torch.no_grad():\n",
    "        for batch_x, batch_y in tqdm(test_dl, desc=\"Evaluating\"):\n",
    "            batch_x, batch_y = batch_x.cuda(), batch_y.cuda()\n",
    "            batch_y = batch_y.flatten()\n",
    "            predicted_ratings = net(batch_x)\n",
    "            loss = loss_fn(predicted_ratings, batch_y)\n",
    "            total_loss += loss.item()\n",
    "            predictions.extend(predicted_ratings.cpu().numpy())\n",
    "    avg_loss = total_loss / len(test_dl)\n",
    "    print(f\"Average Loss: {avg_loss:.4f}\")\n",
    "    return avg_loss\n",
    "\n",
    "def fit(net, loss_fn, epochs=10, lr=0.001):\n",
    "    net.train()\n",
    "    optim = torch.optim.Adam(net.parameters(), lr)\n",
    "    J = []  \n",
    "    for e in tqdm(range(epochs)):\n",
    "        for batch_x, batch_y in tqdm(train_dl):\n",
    "            batch_x, batch_y = batch_x.cuda(), batch_y.cuda()\n",
    "            optim.zero_grad()\n",
    "            batch_y = batch_y.flatten()\n",
    "            out = net(batch_x)\n",
    "            loss = loss_fn(out, batch_y)\n",
    "            loss.backward()\n",
    "            optim.step()\n",
    "            J.append(loss)\n",
    "        evaluate_net(net, loss_fn)\n",
    "        net.train()\n",
    "        print(f\"Epoch {e + 1}/{epochs}: Loss {loss:.2f}\")\n",
    "    return J"
   ]
  },
  {
   "cell_type": "markdown",
   "metadata": {},
   "source": [
    "# Our model"
   ]
  },
  {
   "cell_type": "code",
   "execution_count": 123,
   "metadata": {},
   "outputs": [],
   "source": [
    "config = xdeepfm.NetConfig(fields=fields, m=2, dnn=xdeepfm.DNNConfig(), cin=xdeepfm.CINConfig())\n",
    "net = xdeepfm.xDeepFM(config=config).cuda()"
   ]
  },
  {
   "cell_type": "code",
   "execution_count": 124,
   "metadata": {},
   "outputs": [
    {
     "name": "stderr",
     "output_type": "stream",
     "text": [
      "100%|██████████| 24/24 [00:00<00:00, 31.84it/s]\n",
      "Evaluating: 100%|██████████| 24/24 [00:00<00:00, 34.10it/s]\n",
      " 10%|█         | 1/10 [00:01<00:13,  1.47s/it]"
     ]
    },
    {
     "name": "stdout",
     "output_type": "stream",
     "text": [
      "Average Loss: 0.9742\n",
      "Epoch 1/10: Loss 0.75\n"
     ]
    },
    {
     "name": "stderr",
     "output_type": "stream",
     "text": [
      "100%|██████████| 24/24 [00:00<00:00, 40.41it/s]\n",
      "Evaluating: 100%|██████████| 24/24 [00:00<00:00, 35.56it/s]\n",
      " 20%|██        | 2/10 [00:02<00:10,  1.36s/it]"
     ]
    },
    {
     "name": "stdout",
     "output_type": "stream",
     "text": [
      "Average Loss: 1.6699\n",
      "Epoch 2/10: Loss 0.56\n"
     ]
    },
    {
     "name": "stderr",
     "output_type": "stream",
     "text": [
      "100%|██████████| 24/24 [00:00<00:00, 30.41it/s]\n",
      "Evaluating: 100%|██████████| 24/24 [00:00<00:00, 39.41it/s]\n",
      " 30%|███       | 3/10 [00:04<00:09,  1.38s/it]"
     ]
    },
    {
     "name": "stdout",
     "output_type": "stream",
     "text": [
      "Average Loss: 1.0094\n",
      "Epoch 3/10: Loss 0.51\n"
     ]
    },
    {
     "name": "stderr",
     "output_type": "stream",
     "text": [
      "100%|██████████| 24/24 [00:00<00:00, 31.27it/s]\n",
      "Evaluating: 100%|██████████| 24/24 [00:00<00:00, 44.68it/s]\n",
      " 40%|████      | 4/10 [00:05<00:08,  1.36s/it]"
     ]
    },
    {
     "name": "stdout",
     "output_type": "stream",
     "text": [
      "Average Loss: 0.6208\n",
      "Epoch 4/10: Loss 0.49\n"
     ]
    },
    {
     "name": "stderr",
     "output_type": "stream",
     "text": [
      "100%|██████████| 24/24 [00:00<00:00, 28.79it/s]\n",
      "Evaluating: 100%|██████████| 24/24 [00:00<00:00, 44.13it/s]\n",
      " 50%|█████     | 5/10 [00:06<00:06,  1.37s/it]"
     ]
    },
    {
     "name": "stdout",
     "output_type": "stream",
     "text": [
      "Average Loss: 0.6296\n",
      "Epoch 5/10: Loss 0.47\n"
     ]
    },
    {
     "name": "stderr",
     "output_type": "stream",
     "text": [
      "100%|██████████| 24/24 [00:00<00:00, 32.37it/s]\n",
      "Evaluating: 100%|██████████| 24/24 [00:00<00:00, 29.76it/s]\n",
      " 60%|██████    | 6/10 [00:08<00:05,  1.43s/it]"
     ]
    },
    {
     "name": "stdout",
     "output_type": "stream",
     "text": [
      "Average Loss: 0.6488\n",
      "Epoch 6/10: Loss 0.45\n"
     ]
    },
    {
     "name": "stderr",
     "output_type": "stream",
     "text": [
      "100%|██████████| 24/24 [00:00<00:00, 28.26it/s]\n",
      "Evaluating: 100%|██████████| 24/24 [00:00<00:00, 28.03it/s]\n",
      " 70%|███████   | 7/10 [00:10<00:04,  1.52s/it]"
     ]
    },
    {
     "name": "stdout",
     "output_type": "stream",
     "text": [
      "Average Loss: 0.6751\n",
      "Epoch 7/10: Loss 0.42\n"
     ]
    },
    {
     "name": "stderr",
     "output_type": "stream",
     "text": [
      "100%|██████████| 24/24 [00:00<00:00, 34.79it/s]\n",
      "Evaluating: 100%|██████████| 24/24 [00:00<00:00, 33.64it/s]\n",
      " 80%|████████  | 8/10 [00:11<00:02,  1.49s/it]"
     ]
    },
    {
     "name": "stdout",
     "output_type": "stream",
     "text": [
      "Average Loss: 0.7078\n",
      "Epoch 8/10: Loss 0.40\n"
     ]
    },
    {
     "name": "stderr",
     "output_type": "stream",
     "text": [
      "100%|██████████| 24/24 [00:00<00:00, 37.81it/s]\n",
      "Evaluating: 100%|██████████| 24/24 [00:00<00:00, 31.75it/s]\n",
      " 90%|█████████ | 9/10 [00:12<00:01,  1.46s/it]"
     ]
    },
    {
     "name": "stdout",
     "output_type": "stream",
     "text": [
      "Average Loss: 0.7186\n",
      "Epoch 9/10: Loss 0.37\n"
     ]
    },
    {
     "name": "stderr",
     "output_type": "stream",
     "text": [
      "100%|██████████| 24/24 [00:00<00:00, 28.62it/s]\n",
      "Evaluating: 100%|██████████| 24/24 [00:00<00:00, 44.95it/s]\n",
      "100%|██████████| 10/10 [00:14<00:00,  1.43s/it]"
     ]
    },
    {
     "name": "stdout",
     "output_type": "stream",
     "text": [
      "Average Loss: 0.7788\n",
      "Epoch 10/10: Loss 0.34\n"
     ]
    },
    {
     "name": "stderr",
     "output_type": "stream",
     "text": [
      "\n"
     ]
    }
   ],
   "source": [
    "my_J = fit(net, torch.nn.BCELoss(), epochs=10)"
   ]
  },
  {
   "cell_type": "markdown",
   "metadata": {},
   "source": [
    "# Official implementation"
   ]
  },
  {
   "cell_type": "code",
   "execution_count": 47,
   "metadata": {},
   "outputs": [],
   "source": [
    "from torchfm.model.xdfm import ExtremeDeepFactorizationMachineModel"
   ]
  },
  {
   "cell_type": "code",
   "execution_count": 118,
   "metadata": {},
   "outputs": [],
   "source": [
    "official_xdfm = ExtremeDeepFactorizationMachineModel(fields, embed_dim=10, cross_layer_sizes=(100, 100, 100), split_half=False, mlp_dims=(100, 100, 100), dropout=0).cuda()"
   ]
  },
  {
   "cell_type": "code",
   "execution_count": 119,
   "metadata": {},
   "outputs": [
    {
     "name": "stderr",
     "output_type": "stream",
     "text": [
      "  0%|          | 0/10 [00:00<?, ?it/s]"
     ]
    },
    {
     "name": "stderr",
     "output_type": "stream",
     "text": [
      "100%|██████████| 24/24 [00:00<00:00, 32.26it/s]\n",
      "Evaluating: 100%|██████████| 24/24 [00:00<00:00, 41.33it/s]\n",
      " 10%|█         | 1/10 [00:01<00:11,  1.33s/it]"
     ]
    },
    {
     "name": "stdout",
     "output_type": "stream",
     "text": [
      "Average Loss: 0.9029\n",
      "Epoch 1/10: Loss 0.76\n"
     ]
    },
    {
     "name": "stderr",
     "output_type": "stream",
     "text": [
      "100%|██████████| 24/24 [00:00<00:00, 31.88it/s]\n",
      "Evaluating: 100%|██████████| 24/24 [00:00<00:00, 43.28it/s]\n",
      " 20%|██        | 2/10 [00:02<00:10,  1.32s/it]"
     ]
    },
    {
     "name": "stdout",
     "output_type": "stream",
     "text": [
      "Average Loss: 0.8713\n",
      "Epoch 2/10: Loss 0.58\n"
     ]
    },
    {
     "name": "stderr",
     "output_type": "stream",
     "text": [
      "100%|██████████| 24/24 [00:00<00:00, 33.56it/s]\n",
      "Evaluating: 100%|██████████| 24/24 [00:00<00:00, 43.07it/s]\n",
      " 30%|███       | 3/10 [00:03<00:09,  1.30s/it]"
     ]
    },
    {
     "name": "stdout",
     "output_type": "stream",
     "text": [
      "Average Loss: 0.6715\n",
      "Epoch 3/10: Loss 0.52\n"
     ]
    },
    {
     "name": "stderr",
     "output_type": "stream",
     "text": [
      "100%|██████████| 24/24 [00:00<00:00, 32.10it/s]\n",
      "Evaluating: 100%|██████████| 24/24 [00:00<00:00, 35.19it/s]\n",
      " 40%|████      | 4/10 [00:05<00:08,  1.36s/it]"
     ]
    },
    {
     "name": "stdout",
     "output_type": "stream",
     "text": [
      "Average Loss: 0.6149\n",
      "Epoch 4/10: Loss 0.49\n"
     ]
    },
    {
     "name": "stderr",
     "output_type": "stream",
     "text": [
      "100%|██████████| 24/24 [00:00<00:00, 42.09it/s]\n",
      "Evaluating: 100%|██████████| 24/24 [00:00<00:00, 34.66it/s]\n",
      " 50%|█████     | 5/10 [00:06<00:06,  1.33s/it]"
     ]
    },
    {
     "name": "stdout",
     "output_type": "stream",
     "text": [
      "Average Loss: 0.6219\n",
      "Epoch 5/10: Loss 0.47\n"
     ]
    },
    {
     "name": "stderr",
     "output_type": "stream",
     "text": [
      "100%|██████████| 24/24 [00:00<00:00, 41.12it/s]\n",
      "Evaluating: 100%|██████████| 24/24 [00:00<00:00, 34.70it/s]\n",
      " 60%|██████    | 6/10 [00:07<00:05,  1.31s/it]"
     ]
    },
    {
     "name": "stdout",
     "output_type": "stream",
     "text": [
      "Average Loss: 0.6422\n",
      "Epoch 6/10: Loss 0.45\n"
     ]
    },
    {
     "name": "stderr",
     "output_type": "stream",
     "text": [
      "100%|██████████| 24/24 [00:00<00:00, 41.05it/s]\n",
      "Evaluating: 100%|██████████| 24/24 [00:00<00:00, 35.01it/s]\n",
      " 70%|███████   | 7/10 [00:09<00:03,  1.30s/it]"
     ]
    },
    {
     "name": "stdout",
     "output_type": "stream",
     "text": [
      "Average Loss: 0.6648\n",
      "Epoch 7/10: Loss 0.43\n"
     ]
    },
    {
     "name": "stderr",
     "output_type": "stream",
     "text": [
      "100%|██████████| 24/24 [00:00<00:00, 34.30it/s]\n",
      "Evaluating: 100%|██████████| 24/24 [00:00<00:00, 43.69it/s]\n",
      " 80%|████████  | 8/10 [00:10<00:02,  1.29s/it]"
     ]
    },
    {
     "name": "stdout",
     "output_type": "stream",
     "text": [
      "Average Loss: 0.7006\n",
      "Epoch 8/10: Loss 0.41\n"
     ]
    },
    {
     "name": "stderr",
     "output_type": "stream",
     "text": [
      "100%|██████████| 24/24 [00:00<00:00, 32.79it/s]\n",
      "Evaluating: 100%|██████████| 24/24 [00:00<00:00, 43.91it/s]\n",
      " 90%|█████████ | 9/10 [00:11<00:01,  1.29s/it]"
     ]
    },
    {
     "name": "stdout",
     "output_type": "stream",
     "text": [
      "Average Loss: 0.7307\n",
      "Epoch 9/10: Loss 0.40\n"
     ]
    },
    {
     "name": "stderr",
     "output_type": "stream",
     "text": [
      "100%|██████████| 24/24 [00:00<00:00, 34.10it/s]\n",
      "Evaluating: 100%|██████████| 24/24 [00:00<00:00, 35.25it/s]\n",
      "100%|██████████| 10/10 [00:13<00:00,  1.31s/it]"
     ]
    },
    {
     "name": "stdout",
     "output_type": "stream",
     "text": [
      "Average Loss: 0.7748\n",
      "Epoch 10/10: Loss 0.37\n"
     ]
    },
    {
     "name": "stderr",
     "output_type": "stream",
     "text": [
      "\n"
     ]
    }
   ],
   "source": [
    "real_J = fit(official_xdfm, torch.nn.BCELoss(), epochs=10)"
   ]
  },
  {
   "cell_type": "code",
   "execution_count": 125,
   "metadata": {},
   "outputs": [
    {
     "data": {
      "image/png": "[encoded data removed]",
      "text/plain": [
       "<Figure size 640x480 with 1 Axes>"
      ]
     },
     "metadata": {},
     "output_type": "display_data"
    }
   ],
   "source": [
    "sns.lineplot([float(j.cpu()) for j in real_J], label='benchmark')\n",
    "sns.lineplot([float(j.cpu()) for j in my_J], label='ours')\n",
    "plt.legend()\n",
    "plt.show()"
   ]
  },
  {
   "cell_type": "code",
   "execution_count": null,
   "metadata": {},
   "outputs": [],
   "source": []
  }
 ],
 "metadata": {
  "kernelspec": {
   "display_name": "base",
   "language": "python",
   "name": "python3"
  },
  "language_info": {
   "codemirror_mode": {
    "name": "ipython",
    "version": 3
   },
   "file_extension": ".py",
   "mimetype": "text/x-python",
   "name": "python",
   "nbconvert_exporter": "python",
   "pygments_lexer": "ipython3",
   "version": "3.11.7"
  },
  "orig_nbformat": 4
 },
 "nbformat": 4,
 "nbformat_minor": 2
}
