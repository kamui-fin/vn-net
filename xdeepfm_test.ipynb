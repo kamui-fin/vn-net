{
 "cells": [
  {
   "cell_type": "code",
   "execution_count": 1,
   "metadata": {},
   "outputs": [],
   "source": [
    "from tqdm import tqdm \n",
    "import pandas as pd\n",
    "import numpy as np\n",
    "import seaborn as sns\n",
    "import matplotlib.pyplot as plt\n",
    "import xdeepfm\n",
    "from sklearn.model_selection import train_test_split\n",
    "import torch\n",
    "from torch.utils.data import DataLoader, TensorDataset\n",
    "from xdeepfm import Field\n",
    "\n",
    "df = pd.read_csv(\"./data/ml-100k/u.data\", header=None, delim_whitespace=True, encoding='utf-8')\n",
    "df.columns = ['user_id', 'item_id', 'rating', 'timestamp']\n",
    "\n",
    "num_users = np.max(df['user_id']).item() + 1\n",
    "num_items = np.max(df['item_id']).item() + 1\n",
    "fields = [xdeepfm.Field('user_id', num_users), xdeepfm.Field('item_id', num_items)]"
   ]
  },
  {
   "cell_type": "code",
   "execution_count": 2,
   "metadata": {},
   "outputs": [],
   "source": [
    "%load_ext autoreload\n",
    "%autoreload 2"
   ]
  },
  {
   "cell_type": "code",
   "execution_count": 7,
   "metadata": {},
   "outputs": [],
   "source": [
    "df = pd.read_csv(\"./data/ml-100k/u.data\", header=None, delim_whitespace=True, encoding='utf-8')\n",
    "df.columns = ['user_id', 'item_id', 'rating', 'timestamp']\n",
    "\n",
    "X = df[['user_id', 'item_id']].to_numpy()\n",
    "y = df['rating'].to_numpy()\n",
    "y = (y >= 4).astype(int)\n",
    "\n",
    "batch_size = 2048\n",
    "\n",
    "num_users = np.max(df['user_id']).item() + 1\n",
    "num_items = np.max(df['item_id']).item() + 1\n",
    "fields = [xdeepfm.Field('user_id', num_users), xdeepfm.Field('item_id', num_items)]\n",
    "\n",
    "train_X, test_X, train_y, test_y = train_test_split(X, y, test_size=0.5)\n",
    "train_dl = DataLoader(\n",
    "    TensorDataset(\n",
    "        torch.tensor(train_X),\n",
    "        torch.tensor(train_y).float(),\n",
    "    ),\n",
    "    batch_size=batch_size,\n",
    ")\n",
    "test_dl = DataLoader(\n",
    "    TensorDataset(\n",
    "        torch.tensor(test_X),\n",
    "        torch.tensor(test_y).float(),\n",
    "    ),\n",
    "    batch_size=batch_size,\n",
    ")\n",
    "\n",
    "def fit(net, loss_fn, epochs=10, lr=0.001):\n",
    "    optim = torch.optim.Adam(net.parameters(), lr)\n",
    "    net.train()\n",
    "    net.cuda()\n",
    "    J = []  \n",
    "    for e in tqdm(range(epochs)):\n",
    "        for batch_x, batch_y in tqdm(train_dl):\n",
    "            batch_x, batch_y = batch_x.cuda(), batch_y.cuda()\n",
    "            optim.zero_grad()\n",
    "            batch_y = batch_y.unsqueeze(-1)\n",
    "            out = net(batch_x)\n",
    "            loss = loss_fn(out, batch_y)\n",
    "            loss.backward()\n",
    "            optim.step()\n",
    "            J.append(loss)\n",
    "            break\n",
    "        print(f\"Epoch {e + 1}/{epochs}: Loss {loss:.2f}\")\n",
    "    return J"
   ]
  },
  {
   "cell_type": "code",
   "execution_count": 12,
   "metadata": {},
   "outputs": [
    {
     "name": "stderr",
     "output_type": "stream",
     "text": [
      "  0%|          | 0/4167 [00:05<?, ?it/s]\n",
      " 10%|█         | 1/10 [00:05<00:48,  5.44s/it]"
     ]
    },
    {
     "name": "stdout",
     "output_type": "stream",
     "text": [
      "tensor(0.6954, grad_fn=<BinaryCrossEntropyBackward0>)\n",
      "Epoch 1/10: Loss 0.70\n"
     ]
    },
    {
     "name": "stderr",
     "output_type": "stream",
     "text": [
      "  0%|          | 0/4167 [00:05<?, ?it/s]\n",
      " 20%|██        | 2/10 [00:11<00:45,  5.70s/it]"
     ]
    },
    {
     "name": "stdout",
     "output_type": "stream",
     "text": [
      "tensor(0.6653, grad_fn=<BinaryCrossEntropyBackward0>)\n",
      "Epoch 2/10: Loss 0.67\n"
     ]
    },
    {
     "name": "stderr",
     "output_type": "stream",
     "text": [
      "  0%|          | 0/4167 [00:05<?, ?it/s]\n",
      " 30%|███       | 3/10 [00:16<00:37,  5.43s/it]"
     ]
    },
    {
     "name": "stdout",
     "output_type": "stream",
     "text": [
      "tensor(0.6385, grad_fn=<BinaryCrossEntropyBackward0>)\n",
      "Epoch 3/10: Loss 0.64\n"
     ]
    },
    {
     "name": "stderr",
     "output_type": "stream",
     "text": [
      "  0%|          | 0/4167 [00:04<?, ?it/s]\n",
      " 40%|████      | 4/10 [00:20<00:30,  5.09s/it]"
     ]
    },
    {
     "name": "stdout",
     "output_type": "stream",
     "text": [
      "tensor(0.6131, grad_fn=<BinaryCrossEntropyBackward0>)\n",
      "Epoch 4/10: Loss 0.61\n"
     ]
    },
    {
     "name": "stderr",
     "output_type": "stream",
     "text": [
      "  0%|          | 0/4167 [00:04<?, ?it/s]\n",
      " 50%|█████     | 5/10 [00:25<00:24,  4.94s/it]"
     ]
    },
    {
     "name": "stdout",
     "output_type": "stream",
     "text": [
      "tensor(0.5886, grad_fn=<BinaryCrossEntropyBackward0>)\n",
      "Epoch 5/10: Loss 0.59\n"
     ]
    },
    {
     "name": "stderr",
     "output_type": "stream",
     "text": [
      "  0%|          | 0/4167 [00:04<?, ?it/s]\n",
      " 60%|██████    | 6/10 [00:30<00:19,  4.85s/it]"
     ]
    },
    {
     "name": "stdout",
     "output_type": "stream",
     "text": [
      "tensor(0.5652, grad_fn=<BinaryCrossEntropyBackward0>)\n",
      "Epoch 6/10: Loss 0.57\n"
     ]
    },
    {
     "name": "stderr",
     "output_type": "stream",
     "text": [
      "  0%|          | 0/4167 [00:04<?, ?it/s]\n",
      " 70%|███████   | 7/10 [00:35<00:14,  4.81s/it]"
     ]
    },
    {
     "name": "stdout",
     "output_type": "stream",
     "text": [
      "tensor(0.5415, grad_fn=<BinaryCrossEntropyBackward0>)\n",
      "Epoch 7/10: Loss 0.54\n"
     ]
    },
    {
     "name": "stderr",
     "output_type": "stream",
     "text": [
      "  0%|          | 0/4167 [00:04<?, ?it/s]\n",
      " 80%|████████  | 8/10 [00:39<00:09,  4.80s/it]"
     ]
    },
    {
     "name": "stdout",
     "output_type": "stream",
     "text": [
      "tensor(0.5164, grad_fn=<BinaryCrossEntropyBackward0>)\n",
      "Epoch 8/10: Loss 0.52\n"
     ]
    },
    {
     "name": "stderr",
     "output_type": "stream",
     "text": [
      "  0%|          | 0/4167 [00:04<?, ?it/s]\n",
      " 90%|█████████ | 9/10 [00:44<00:04,  4.82s/it]"
     ]
    },
    {
     "name": "stdout",
     "output_type": "stream",
     "text": [
      "tensor(0.4900, grad_fn=<BinaryCrossEntropyBackward0>)\n",
      "Epoch 9/10: Loss 0.49\n"
     ]
    },
    {
     "name": "stderr",
     "output_type": "stream",
     "text": [
      "  0%|          | 0/4167 [00:04<?, ?it/s]\n",
      "100%|██████████| 10/10 [00:49<00:00,  4.96s/it]"
     ]
    },
    {
     "name": "stdout",
     "output_type": "stream",
     "text": [
      "tensor(0.4625, grad_fn=<BinaryCrossEntropyBackward0>)\n",
      "Epoch 10/10: Loss 0.46\n"
     ]
    },
    {
     "name": "stderr",
     "output_type": "stream",
     "text": [
      "\n"
     ]
    },
    {
     "data": {
      "text/plain": [
       "[tensor(0.6954, grad_fn=<BinaryCrossEntropyBackward0>),\n",
       " tensor(0.6653, grad_fn=<BinaryCrossEntropyBackward0>),\n",
       " tensor(0.6385, grad_fn=<BinaryCrossEntropyBackward0>),\n",
       " tensor(0.6131, grad_fn=<BinaryCrossEntropyBackward0>),\n",
       " tensor(0.5886, grad_fn=<BinaryCrossEntropyBackward0>),\n",
       " tensor(0.5652, grad_fn=<BinaryCrossEntropyBackward0>),\n",
       " tensor(0.5415, grad_fn=<BinaryCrossEntropyBackward0>),\n",
       " tensor(0.5164, grad_fn=<BinaryCrossEntropyBackward0>),\n",
       " tensor(0.4900, grad_fn=<BinaryCrossEntropyBackward0>),\n",
       " tensor(0.4625, grad_fn=<BinaryCrossEntropyBackward0>)]"
      ]
     },
     "execution_count": 12,
     "metadata": {},
     "output_type": "execute_result"
    }
   ],
   "source": [
    "config = xdeepfm.NetConfig(fields=fields, m=2, dnn=xdeepfm.DNNConfig(), cin=xdeepfm.CINConfig())\n",
    "net = xdeepfm.xDeepFM(config=config)\n",
    "J = fit(net, torch.nn.BCELoss())"
   ]
  }
 ],
 "metadata": {
  "kernelspec": {
   "display_name": "base",
   "language": "python",
   "name": "python3"
  },
  "language_info": {
   "codemirror_mode": {
    "name": "ipython",
    "version": 3
   },
   "file_extension": ".py",
   "mimetype": "text/x-python",
   "name": "python",
   "nbconvert_exporter": "python",
   "pygments_lexer": "ipython3",
   "version": "3.11.7"
  },
  "orig_nbformat": 4
 },
 "nbformat": 4,
 "nbformat_minor": 2
}
