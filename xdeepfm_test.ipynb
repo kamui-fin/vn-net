{
 "cells": [
  {
   "cell_type": "code",
   "execution_count": null,
   "metadata": {},
   "outputs": [],
   "source": [
    "from tqdm import tqdm \n",
    "import pandas as pd\n",
    "import numpy as np\n",
    "import seaborn as sns\n",
    "import matplotlib.pyplot as plt\n",
    "import xdeepfm\n",
    "from sklearn.model_selection import train_test_split\n",
    "import torch\n",
    "from torch.utils.data import DataLoader, TensorDataset\n",
    "from xdeepfm import Field"
   ]
  },
  {
   "cell_type": "code",
   "execution_count": null,
   "metadata": {},
   "outputs": [],
   "source": [
    "%load_ext autoreload\n",
    "%autoreload 2"
   ]
  },
  {
   "cell_type": "code",
   "execution_count": 69,
   "metadata": {},
   "outputs": [],
   "source": [
    "df = pd.read_csv(\"./data/ml-100k/u.data\", header=None, delim_whitespace=True, encoding='utf-8')\n",
    "df.columns = ['user_id', 'item_id', 'rating', 'timestamp']\n",
    "\n",
    "X = df[['user_id', 'item_id']].to_numpy()\n",
    "y = df['rating'].to_numpy()\n",
    "y = (y >= 4).astype(int)\n",
    "\n",
    "batch_size = 2048\n",
    "\n",
    "num_users = np.max(df['user_id']).item() + 1\n",
    "num_items = np.max(df['item_id']).item() + 1\n",
    "fields = [num_users, num_items]\n",
    "\n",
    "train_X, test_X, train_y, test_y = train_test_split(X, y, test_size=0.5)\n",
    "train_dl = DataLoader(\n",
    "    TensorDataset(\n",
    "        torch.tensor(train_X),\n",
    "        torch.tensor(train_y).float(),\n",
    "    ),\n",
    "    batch_size=batch_size,\n",
    "    drop_last=True\n",
    ")\n",
    "test_dl = DataLoader(\n",
    "    TensorDataset(\n",
    "        torch.tensor(test_X),\n",
    "        torch.tensor(test_y).float(),\n",
    "    ),\n",
    "    batch_size=batch_size,\n",
    "    drop_last=True\n",
    ")\n",
    "\n",
    "def evaluate_net(net, loss_fn, flatten_y=True):\n",
    "    net.cuda()\n",
    "    net.eval()\n",
    "    total_loss = 0.0\n",
    "    predictions = []\n",
    "    with torch.no_grad():\n",
    "        for batch_x, batch_y in tqdm(test_dl, desc=\"Evaluating\"):\n",
    "            batch_x, batch_y = batch_x.cuda(), batch_y.cuda()\n",
    "            if not flatten_y:\n",
    "                batch_y = batch_y.unsqueeze(-1)\n",
    "            else:\n",
    "                batch_y = batch_y.flatten()\n",
    "            predicted_ratings = net(batch_x)\n",
    "            loss = loss_fn(predicted_ratings, batch_y)\n",
    "            total_loss += loss.item()\n",
    "            predictions.extend(predicted_ratings.cpu().numpy())\n",
    "    avg_loss = total_loss / len(test_dl)\n",
    "    print(f\"Average Loss: {avg_loss:.4f}\")\n",
    "    return avg_loss\n",
    "\n",
    "def fit(net, loss_fn, epochs=10, lr=0.001, flatten_y=True):\n",
    "    net.train()\n",
    "    optim = torch.optim.Adam(net.parameters(), lr)\n",
    "    J = []  \n",
    "    for e in tqdm(range(epochs)):\n",
    "        for batch_x, batch_y in tqdm(train_dl):\n",
    "            batch_x, batch_y = batch_x.cuda(), batch_y.cuda()\n",
    "            optim.zero_grad()\n",
    "            if not flatten_y:\n",
    "                batch_y = batch_y.unsqueeze(-1)\n",
    "            else:\n",
    "                batch_y = batch_y.flatten()\n",
    "            out = net(batch_x)\n",
    "            loss = loss_fn(out, batch_y)\n",
    "            loss.backward()\n",
    "            optim.step()\n",
    "            J.append(loss)\n",
    "        evaluate_net(net, loss_fn, flatten_y)\n",
    "        net.train()\n",
    "        print(f\"Epoch {e + 1}/{epochs}: Loss {loss:.2f}\")\n",
    "    return J"
   ]
  },
  {
   "cell_type": "markdown",
   "metadata": {},
   "source": [
    "# Our model"
   ]
  },
  {
   "cell_type": "code",
   "execution_count": null,
   "metadata": {},
   "outputs": [],
   "source": [
    "config = xdeepfm.NetConfig(fields=fields, m=2, dnn=xdeepfm.DNNConfig(), cin=xdeepfm.CINConfig())\n",
    "net = xdeepfm.xDeepFM(config=config).cuda()"
   ]
  },
  {
   "cell_type": "code",
   "execution_count": 70,
   "metadata": {},
   "outputs": [
    {
     "name": "stderr",
     "output_type": "stream",
     "text": [
      "100%|██████████| 24/24 [00:01<00:00, 23.26it/s]\n",
      "Evaluating: 100%|██████████| 24/24 [00:00<00:00, 43.29it/s]\n",
      " 10%|█         | 1/10 [00:01<00:14,  1.60s/it]"
     ]
    },
    {
     "name": "stdout",
     "output_type": "stream",
     "text": [
      "Average Loss: 0.6975\n",
      "Epoch 1/10: Loss 0.70\n"
     ]
    },
    {
     "name": "stderr",
     "output_type": "stream",
     "text": [
      "100%|██████████| 24/24 [00:01<00:00, 22.88it/s]\n",
      "Evaluating: 100%|██████████| 24/24 [00:00<00:00, 36.94it/s]\n",
      " 20%|██        | 2/10 [00:03<00:13,  1.66s/it]"
     ]
    },
    {
     "name": "stdout",
     "output_type": "stream",
     "text": [
      "Average Loss: 0.6861\n",
      "Epoch 2/10: Loss 0.68\n"
     ]
    },
    {
     "name": "stderr",
     "output_type": "stream",
     "text": [
      "100%|██████████| 24/24 [00:00<00:00, 27.38it/s]\n",
      "Evaluating: 100%|██████████| 24/24 [00:00<00:00, 37.49it/s]\n",
      " 30%|███       | 3/10 [00:04<00:11,  1.60s/it]"
     ]
    },
    {
     "name": "stdout",
     "output_type": "stream",
     "text": [
      "Average Loss: 0.6760\n",
      "Epoch 3/10: Loss 0.67\n"
     ]
    },
    {
     "name": "stderr",
     "output_type": "stream",
     "text": [
      "100%|██████████| 24/24 [00:01<00:00, 22.73it/s]\n",
      "Evaluating: 100%|██████████| 24/24 [00:00<00:00, 42.78it/s]\n",
      " 40%|████      | 4/10 [00:06<00:09,  1.61s/it]"
     ]
    },
    {
     "name": "stdout",
     "output_type": "stream",
     "text": [
      "Average Loss: 0.6667\n",
      "Epoch 4/10: Loss 0.65\n"
     ]
    },
    {
     "name": "stderr",
     "output_type": "stream",
     "text": [
      "100%|██████████| 24/24 [00:01<00:00, 23.32it/s]\n",
      "Evaluating: 100%|██████████| 24/24 [00:00<00:00, 40.58it/s]\n",
      " 50%|█████     | 5/10 [00:08<00:08,  1.62s/it]"
     ]
    },
    {
     "name": "stdout",
     "output_type": "stream",
     "text": [
      "Average Loss: 0.6591\n",
      "Epoch 5/10: Loss 0.64\n"
     ]
    },
    {
     "name": "stderr",
     "output_type": "stream",
     "text": [
      "100%|██████████| 24/24 [00:01<00:00, 23.58it/s]\n",
      "Evaluating: 100%|██████████| 24/24 [00:00<00:00, 36.42it/s]\n",
      " 60%|██████    | 6/10 [00:09<00:06,  1.64s/it]"
     ]
    },
    {
     "name": "stdout",
     "output_type": "stream",
     "text": [
      "Average Loss: 0.6516\n",
      "Epoch 6/10: Loss 0.63\n"
     ]
    },
    {
     "name": "stderr",
     "output_type": "stream",
     "text": [
      "100%|██████████| 24/24 [00:00<00:00, 25.05it/s]\n",
      "Evaluating: 100%|██████████| 24/24 [00:00<00:00, 26.88it/s]\n",
      " 70%|███████   | 7/10 [00:11<00:05,  1.71s/it]"
     ]
    },
    {
     "name": "stdout",
     "output_type": "stream",
     "text": [
      "Average Loss: 0.6445\n",
      "Epoch 7/10: Loss 0.61\n"
     ]
    },
    {
     "name": "stderr",
     "output_type": "stream",
     "text": [
      " 50%|█████     | 12/24 [00:00<00:00, 24.39it/s]\n",
      " 70%|███████   | 7/10 [00:12<00:05,  1.73s/it]\n"
     ]
    },
    {
     "ename": "KeyboardInterrupt",
     "evalue": "",
     "output_type": "error",
     "traceback": [
      "\u001b[0;31m---------------------------------------------------------------------------\u001b[0m",
      "\u001b[0;31mKeyboardInterrupt\u001b[0m                         Traceback (most recent call last)",
      "Cell \u001b[0;32mIn[70], line 1\u001b[0m\n\u001b[0;32m----> 1\u001b[0m my_J \u001b[39m=\u001b[39m fit(net, torch\u001b[39m.\u001b[39;49mnn\u001b[39m.\u001b[39;49mBCELoss(), epochs\u001b[39m=\u001b[39;49m\u001b[39m10\u001b[39;49m, flatten_y\u001b[39m=\u001b[39;49m\u001b[39mFalse\u001b[39;49;00m)\n",
      "Cell \u001b[0;32mIn[69], line 57\u001b[0m, in \u001b[0;36mfit\u001b[0;34m(net, loss_fn, epochs, lr, flatten_y)\u001b[0m\n\u001b[1;32m     55\u001b[0m J \u001b[39m=\u001b[39m []  \n\u001b[1;32m     56\u001b[0m \u001b[39mfor\u001b[39;00m e \u001b[39min\u001b[39;00m tqdm(\u001b[39mrange\u001b[39m(epochs)):\n\u001b[0;32m---> 57\u001b[0m     \u001b[39mfor\u001b[39;49;00m batch_x, batch_y \u001b[39min\u001b[39;49;00m tqdm(train_dl):\n\u001b[1;32m     58\u001b[0m         batch_x, batch_y \u001b[39m=\u001b[39;49m batch_x\u001b[39m.\u001b[39;49mcuda(), batch_y\u001b[39m.\u001b[39;49mcuda()\n\u001b[1;32m     59\u001b[0m         optim\u001b[39m.\u001b[39;49mzero_grad()\n",
      "File \u001b[0;32m~/.conda/lib/python3.11/site-packages/tqdm/std.py:1178\u001b[0m, in \u001b[0;36mtqdm.__iter__\u001b[0;34m(self)\u001b[0m\n\u001b[1;32m   1175\u001b[0m time \u001b[39m=\u001b[39m \u001b[39mself\u001b[39m\u001b[39m.\u001b[39m_time\n\u001b[1;32m   1177\u001b[0m \u001b[39mtry\u001b[39;00m:\n\u001b[0;32m-> 1178\u001b[0m     \u001b[39mfor\u001b[39;49;00m obj \u001b[39min\u001b[39;49;00m iterable:\n\u001b[1;32m   1179\u001b[0m         \u001b[39myield\u001b[39;49;00m obj\n\u001b[1;32m   1180\u001b[0m         \u001b[39m# Update and possibly print the progressbar.\u001b[39;49;00m\n\u001b[1;32m   1181\u001b[0m         \u001b[39m# Note: does not call self.update(1) for speed optimisation.\u001b[39;49;00m\n",
      "File \u001b[0;32m~/.conda/lib/python3.11/site-packages/torch/utils/data/dataloader.py:630\u001b[0m, in \u001b[0;36m_BaseDataLoaderIter.__next__\u001b[0;34m(self)\u001b[0m\n\u001b[1;32m    627\u001b[0m \u001b[39mif\u001b[39;00m \u001b[39mself\u001b[39m\u001b[39m.\u001b[39m_sampler_iter \u001b[39mis\u001b[39;00m \u001b[39mNone\u001b[39;00m:\n\u001b[1;32m    628\u001b[0m     \u001b[39m# TODO(https://github.com/pytorch/pytorch/issues/76750)\u001b[39;00m\n\u001b[1;32m    629\u001b[0m     \u001b[39mself\u001b[39m\u001b[39m.\u001b[39m_reset()  \u001b[39m# type: ignore[call-arg]\u001b[39;00m\n\u001b[0;32m--> 630\u001b[0m data \u001b[39m=\u001b[39m \u001b[39mself\u001b[39;49m\u001b[39m.\u001b[39;49m_next_data()\n\u001b[1;32m    631\u001b[0m \u001b[39mself\u001b[39m\u001b[39m.\u001b[39m_num_yielded \u001b[39m+\u001b[39m\u001b[39m=\u001b[39m \u001b[39m1\u001b[39m\n\u001b[1;32m    632\u001b[0m \u001b[39mif\u001b[39;00m \u001b[39mself\u001b[39m\u001b[39m.\u001b[39m_dataset_kind \u001b[39m==\u001b[39m _DatasetKind\u001b[39m.\u001b[39mIterable \u001b[39mand\u001b[39;00m \\\n\u001b[1;32m    633\u001b[0m         \u001b[39mself\u001b[39m\u001b[39m.\u001b[39m_IterableDataset_len_called \u001b[39mis\u001b[39;00m \u001b[39mnot\u001b[39;00m \u001b[39mNone\u001b[39;00m \u001b[39mand\u001b[39;00m \\\n\u001b[1;32m    634\u001b[0m         \u001b[39mself\u001b[39m\u001b[39m.\u001b[39m_num_yielded \u001b[39m>\u001b[39m \u001b[39mself\u001b[39m\u001b[39m.\u001b[39m_IterableDataset_len_called:\n",
      "File \u001b[0;32m~/.conda/lib/python3.11/site-packages/torch/utils/data/dataloader.py:674\u001b[0m, in \u001b[0;36m_SingleProcessDataLoaderIter._next_data\u001b[0;34m(self)\u001b[0m\n\u001b[1;32m    672\u001b[0m \u001b[39mdef\u001b[39;00m \u001b[39m_next_data\u001b[39m(\u001b[39mself\u001b[39m):\n\u001b[1;32m    673\u001b[0m     index \u001b[39m=\u001b[39m \u001b[39mself\u001b[39m\u001b[39m.\u001b[39m_next_index()  \u001b[39m# may raise StopIteration\u001b[39;00m\n\u001b[0;32m--> 674\u001b[0m     data \u001b[39m=\u001b[39m \u001b[39mself\u001b[39;49m\u001b[39m.\u001b[39;49m_dataset_fetcher\u001b[39m.\u001b[39;49mfetch(index)  \u001b[39m# may raise StopIteration\u001b[39;00m\n\u001b[1;32m    675\u001b[0m     \u001b[39mif\u001b[39;00m \u001b[39mself\u001b[39m\u001b[39m.\u001b[39m_pin_memory:\n\u001b[1;32m    676\u001b[0m         data \u001b[39m=\u001b[39m _utils\u001b[39m.\u001b[39mpin_memory\u001b[39m.\u001b[39mpin_memory(data, \u001b[39mself\u001b[39m\u001b[39m.\u001b[39m_pin_memory_device)\n",
      "File \u001b[0;32m~/.conda/lib/python3.11/site-packages/torch/utils/data/_utils/fetch.py:51\u001b[0m, in \u001b[0;36m_MapDatasetFetcher.fetch\u001b[0;34m(self, possibly_batched_index)\u001b[0m\n\u001b[1;32m     49\u001b[0m         data \u001b[39m=\u001b[39m \u001b[39mself\u001b[39m\u001b[39m.\u001b[39mdataset\u001b[39m.\u001b[39m__getitems__(possibly_batched_index)\n\u001b[1;32m     50\u001b[0m     \u001b[39melse\u001b[39;00m:\n\u001b[0;32m---> 51\u001b[0m         data \u001b[39m=\u001b[39m [\u001b[39mself\u001b[39;49m\u001b[39m.\u001b[39;49mdataset[idx] \u001b[39mfor\u001b[39;49;00m idx \u001b[39min\u001b[39;49;00m possibly_batched_index]\n\u001b[1;32m     52\u001b[0m \u001b[39melse\u001b[39;00m:\n\u001b[1;32m     53\u001b[0m     data \u001b[39m=\u001b[39m \u001b[39mself\u001b[39m\u001b[39m.\u001b[39mdataset[possibly_batched_index]\n",
      "File \u001b[0;32m~/.conda/lib/python3.11/site-packages/torch/utils/data/_utils/fetch.py:51\u001b[0m, in \u001b[0;36m<listcomp>\u001b[0;34m(.0)\u001b[0m\n\u001b[1;32m     49\u001b[0m         data \u001b[39m=\u001b[39m \u001b[39mself\u001b[39m\u001b[39m.\u001b[39mdataset\u001b[39m.\u001b[39m__getitems__(possibly_batched_index)\n\u001b[1;32m     50\u001b[0m     \u001b[39melse\u001b[39;00m:\n\u001b[0;32m---> 51\u001b[0m         data \u001b[39m=\u001b[39m [\u001b[39mself\u001b[39;49m\u001b[39m.\u001b[39;49mdataset[idx] \u001b[39mfor\u001b[39;00m idx \u001b[39min\u001b[39;00m possibly_batched_index]\n\u001b[1;32m     52\u001b[0m \u001b[39melse\u001b[39;00m:\n\u001b[1;32m     53\u001b[0m     data \u001b[39m=\u001b[39m \u001b[39mself\u001b[39m\u001b[39m.\u001b[39mdataset[possibly_batched_index]\n",
      "File \u001b[0;32m~/.conda/lib/python3.11/site-packages/torch/utils/data/dataset.py:208\u001b[0m, in \u001b[0;36mTensorDataset.__getitem__\u001b[0;34m(self, index)\u001b[0m\n\u001b[1;32m    207\u001b[0m \u001b[39mdef\u001b[39;00m \u001b[39m__getitem__\u001b[39m(\u001b[39mself\u001b[39m, index):\n\u001b[0;32m--> 208\u001b[0m     \u001b[39mreturn\u001b[39;00m \u001b[39mtuple\u001b[39;49m(tensor[index] \u001b[39mfor\u001b[39;49;00m tensor \u001b[39min\u001b[39;49;00m \u001b[39mself\u001b[39;49m\u001b[39m.\u001b[39;49mtensors)\n",
      "File \u001b[0;32m~/.conda/lib/python3.11/site-packages/torch/utils/data/dataset.py:208\u001b[0m, in \u001b[0;36m<genexpr>\u001b[0;34m(.0)\u001b[0m\n\u001b[1;32m    207\u001b[0m \u001b[39mdef\u001b[39;00m \u001b[39m__getitem__\u001b[39m(\u001b[39mself\u001b[39m, index):\n\u001b[0;32m--> 208\u001b[0m     \u001b[39mreturn\u001b[39;00m \u001b[39mtuple\u001b[39m(tensor[index] \u001b[39mfor\u001b[39;00m tensor \u001b[39min\u001b[39;00m \u001b[39mself\u001b[39m\u001b[39m.\u001b[39mtensors)\n",
      "\u001b[0;31mKeyboardInterrupt\u001b[0m: "
     ]
    }
   ],
   "source": [
    "my_J = fit(net, torch.nn.BCELoss(), epochs=10, flatten_y=False)"
   ]
  },
  {
   "cell_type": "markdown",
   "metadata": {},
   "source": [
    "# Official implementation"
   ]
  },
  {
   "cell_type": "code",
   "execution_count": 47,
   "metadata": {},
   "outputs": [],
   "source": [
    "from torchfm.model.xdfm import ExtremeDeepFactorizationMachineModel"
   ]
  },
  {
   "cell_type": "code",
   "execution_count": 56,
   "metadata": {},
   "outputs": [],
   "source": [
    "official_xdfm = ExtremeDeepFactorizationMachineModel(fields, embed_dim=10, cross_layer_sizes=(100, 100, 100), split_half=False, mlp_dims=(100, 100, 100), dropout=0).cuda()"
   ]
  },
  {
   "cell_type": "code",
   "execution_count": 59,
   "metadata": {},
   "outputs": [
    {
     "name": "stderr",
     "output_type": "stream",
     "text": [
      "100%|██████████| 24/24 [00:00<00:00, 32.28it/s]\n",
      "Evaluating: 100%|██████████| 24/24 [00:00<00:00, 45.75it/s]\n",
      " 10%|█         | 1/10 [00:01<00:11,  1.28s/it]"
     ]
    },
    {
     "name": "stdout",
     "output_type": "stream",
     "text": [
      "Average Loss: 0.9338\n",
      "Epoch 1/10: Loss 0.63\n"
     ]
    },
    {
     "name": "stderr",
     "output_type": "stream",
     "text": [
      "100%|██████████| 24/24 [00:00<00:00, 36.47it/s]\n",
      "Evaluating: 100%|██████████| 24/24 [00:00<00:00, 37.35it/s]\n",
      " 20%|██        | 2/10 [00:02<00:10,  1.30s/it]"
     ]
    },
    {
     "name": "stdout",
     "output_type": "stream",
     "text": [
      "Average Loss: 0.7035\n",
      "Epoch 2/10: Loss 0.56\n"
     ]
    },
    {
     "name": "stderr",
     "output_type": "stream",
     "text": [
      "100%|██████████| 24/24 [00:00<00:00, 42.86it/s]\n",
      "Evaluating: 100%|██████████| 24/24 [00:00<00:00, 37.37it/s]\n",
      " 30%|███       | 3/10 [00:03<00:08,  1.26s/it]"
     ]
    },
    {
     "name": "stdout",
     "output_type": "stream",
     "text": [
      "Average Loss: 0.5959\n",
      "Epoch 3/10: Loss 0.53\n"
     ]
    },
    {
     "name": "stderr",
     "output_type": "stream",
     "text": [
      "100%|██████████| 24/24 [00:00<00:00, 36.22it/s]\n",
      "Evaluating: 100%|██████████| 24/24 [00:00<00:00, 44.81it/s]\n",
      " 40%|████      | 4/10 [00:05<00:07,  1.24s/it]"
     ]
    },
    {
     "name": "stdout",
     "output_type": "stream",
     "text": [
      "Average Loss: 0.6043\n",
      "Epoch 4/10: Loss 0.50\n"
     ]
    },
    {
     "name": "stderr",
     "output_type": "stream",
     "text": [
      "100%|██████████| 24/24 [00:00<00:00, 34.81it/s]\n",
      "Evaluating: 100%|██████████| 24/24 [00:00<00:00, 35.72it/s]\n",
      " 50%|█████     | 5/10 [00:06<00:06,  1.29s/it]"
     ]
    },
    {
     "name": "stdout",
     "output_type": "stream",
     "text": [
      "Average Loss: 0.6186\n",
      "Epoch 5/10: Loss 0.48\n"
     ]
    },
    {
     "name": "stderr",
     "output_type": "stream",
     "text": [
      "100%|██████████| 24/24 [00:00<00:00, 35.57it/s]\n",
      "Evaluating: 100%|██████████| 24/24 [00:00<00:00, 45.36it/s]\n",
      " 60%|██████    | 6/10 [00:07<00:05,  1.26s/it]"
     ]
    },
    {
     "name": "stdout",
     "output_type": "stream",
     "text": [
      "Average Loss: 0.6386\n",
      "Epoch 6/10: Loss 0.46\n"
     ]
    },
    {
     "name": "stderr",
     "output_type": "stream",
     "text": [
      "100%|██████████| 24/24 [00:00<00:00, 35.39it/s]\n",
      "Evaluating: 100%|██████████| 24/24 [00:00<00:00, 36.47it/s]\n",
      " 70%|███████   | 7/10 [00:08<00:03,  1.29s/it]"
     ]
    },
    {
     "name": "stdout",
     "output_type": "stream",
     "text": [
      "Average Loss: 0.6597\n",
      "Epoch 7/10: Loss 0.43\n"
     ]
    },
    {
     "name": "stderr",
     "output_type": "stream",
     "text": [
      "100%|██████████| 24/24 [00:00<00:00, 41.97it/s]\n",
      "Evaluating: 100%|██████████| 24/24 [00:00<00:00, 37.03it/s]\n",
      " 80%|████████  | 8/10 [00:10<00:02,  1.27s/it]"
     ]
    },
    {
     "name": "stdout",
     "output_type": "stream",
     "text": [
      "Average Loss: 0.6881\n",
      "Epoch 8/10: Loss 0.40\n"
     ]
    },
    {
     "name": "stderr",
     "output_type": "stream",
     "text": [
      "100%|██████████| 24/24 [00:00<00:00, 35.58it/s]\n",
      "Evaluating: 100%|██████████| 24/24 [00:00<00:00, 45.07it/s]\n",
      " 90%|█████████ | 9/10 [00:11<00:01,  1.25s/it]"
     ]
    },
    {
     "name": "stdout",
     "output_type": "stream",
     "text": [
      "Average Loss: 0.7252\n",
      "Epoch 9/10: Loss 0.38\n"
     ]
    },
    {
     "name": "stderr",
     "output_type": "stream",
     "text": [
      "100%|██████████| 24/24 [00:00<00:00, 35.90it/s]\n",
      "Evaluating: 100%|██████████| 24/24 [00:00<00:00, 36.63it/s]\n",
      "100%|██████████| 10/10 [00:12<00:00,  1.27s/it]"
     ]
    },
    {
     "name": "stdout",
     "output_type": "stream",
     "text": [
      "Average Loss: 0.7581\n",
      "Epoch 10/10: Loss 0.36\n"
     ]
    },
    {
     "name": "stderr",
     "output_type": "stream",
     "text": [
      "\n"
     ]
    }
   ],
   "source": [
    "real_J = fit(official_xdfm, torch.nn.BCELoss(), epochs=10)"
   ]
  },
  {
   "cell_type": "code",
   "execution_count": 68,
   "metadata": {},
   "outputs": [
    {
     "data": {
      "text/plain": [
       "<Axes: >"
      ]
     },
     "execution_count": 68,
     "metadata": {},
     "output_type": "execute_result"
    },
    {
     "data": {
      "image/png": "[encoded data removed]",
      "text/plain": [
       "<Figure size 640x480 with 1 Axes>"
      ]
     },
     "metadata": {},
     "output_type": "display_data"
    }
   ],
   "source": [
    "sns.lineplot([float(j.cpu()) for j in real_J])"
   ]
  }
 ],
 "metadata": {
  "kernelspec": {
   "display_name": "base",
   "language": "python",
   "name": "python3"
  },
  "language_info": {
   "codemirror_mode": {
    "name": "ipython",
    "version": 3
   },
   "file_extension": ".py",
   "mimetype": "text/x-python",
   "name": "python",
   "nbconvert_exporter": "python",
   "pygments_lexer": "ipython3",
   "version": "3.11.7"
  },
  "orig_nbformat": 4
 },
 "nbformat": 4,
 "nbformat_minor": 2
}
