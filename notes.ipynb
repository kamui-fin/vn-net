{
 "cells": [
  {
   "cell_type": "markdown",
   "metadata": {},
   "source": [
    "# CIN component\n",
    "\n",
    "Output of field embedding:\n",
    "- $X^0 \\in \\mathbb{R}^{m \\times D}$\n",
    "    - $X^0_i = e_i$\n",
    "\n",
    "Output of k-th layer in CIN:\n",
    "- $X^k \\in \\mathbb{R}^{H_k \\times D}$\n",
    "    - Where $H_k$ denotes # of embedding feature vectors in k-th layer\n",
    "    - $H_0 = m$\n",
    "- $X^k$ is derived via interactions between $X^{k-1}$ and $X^0$\n",
    "- Calculation of $X^k$:\n",
    "$$\n",
    "X^k_{h,*} = \\sum^{H_{k-1}}_{i=1} \\sum^m_{j=1}W^{k,h}_{ij}(X^{k-1}_{i,*} \\odot X^0_{j,*})\n",
    "$$\n",
    "- Parameter matrix for calculating $X^k$:\n",
    "    - $W^{k,h} \\in \\mathbb{R}^{H_{k-1} \\times m}$\n",
    "    - Some intuitions:\n",
    "        - Each vector of each layer gets its own weight matrix.\n",
    "\n",
    "Finally, we can apply sum pooling on each feature map (column) of hidden the hidden layer:\n",
    "$$\n",
    "p^k_i = \\sum^D_{j=1}X^k_{i,j}\n",
    "$$\n",
    "\n",
    "Concatenate all pooling vectors for all the columns into:\n",
    "$$\n",
    "\\bold{p}^k = [p^k_1, p^k_2, ..., p^k_{H_k}]\n",
    "$$\n",
    "\n",
    "And then we concatenate *those* to finally get $\\bold{p^+}$\n",
    "\n",
    "The result is a vector $\\bold{p^+} \\in \\mathbb{R}^{\\sum^{T}_{i=1}H_i}$\n",
    "\n",
    "# Hyperparameters\n",
    "\n",
    "We need to decide on:\n",
    "- $T$ the number of layers, the paper recommends 3 - 5.\n",
    "- $H_k$ for each layer, the paper seems to set them all to the same value"
   ]
  }
 ],
 "metadata": {
  "kernelspec": {
   "display_name": "base",
   "language": "python",
   "name": "python3"
  },
  "language_info": {
   "codemirror_mode": {
    "name": "ipython",
    "version": 3
   },
   "file_extension": ".py",
   "mimetype": "text/x-python",
   "name": "python",
   "nbconvert_exporter": "python",
   "pygments_lexer": "ipython3",
   "version": "3.11.7"
  },
  "orig_nbformat": 4
 },
 "nbformat": 4,
 "nbformat_minor": 2
}
